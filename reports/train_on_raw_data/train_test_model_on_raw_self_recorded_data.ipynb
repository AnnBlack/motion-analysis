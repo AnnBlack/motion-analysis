{
 "cells": [
  {
   "cell_type": "code",
   "execution_count": 19,
   "metadata": {
    "collapsed": true
   },
   "outputs": [],
   "source": [
    "import pandas as pd\n",
    "\n",
    "# PATH_NAMES\n",
    "UP_GYM_1 = '../../inputs/upstairs_chris.xls'\n",
    "UP_GYM_2 = '../../inputs/upstairs_ana.xls'\n",
    "DOWN_GYM_1 = '../../inputs/downstairs_chris.xls'\n",
    "DOWN_GYM_2 = '../../inputs/downstairs_ana.xls'\n",
    "\n",
    "UP_UNI_1 = '../../inputs/upstairs_with_barometer_1.xls'\n",
    "UP_UNI_2 = '../../inputs/upstairs_with_barometer_2.xls'\n",
    "DOWN_UNI_1 = '../../inputs/downstairs_with_barometer_1.xls'\n",
    "DOWN_UNI_2 = '../../inputs/downstairs_with_barometer_2.xls'\n",
    "\n",
    "UP_WITH_WALK_UNI_1 = '../../inputs/up_and_down_with_walk_in_between/upstairs_with_barometer_1.xls'\n",
    "UP_WITH_WALK_UNI_2 = '../../inputs/up_and_down_with_walk_in_between/upstairs_with_barometer_2.xls'\n",
    "DOWN_WITH_WALK_UNI_1 = '../../inputs/up_and_down_with_walk_in_between/downstairs_with_barometer_1.xls'\n",
    "DOWN_WITH_WALK_UNI_2 = '../../inputs/up_and_down_with_walk_in_between/downstairs_with_barometer_2.xls'"
   ]
  },
  {
   "cell_type": "code",
   "execution_count": 22,
   "outputs": [],
   "source": [
    "def getListsFromExcel(file_names_list, accel_list=[], gyro_list=[], accel_linear_list=[]):\n",
    "    for name in file_names_list:\n",
    "        accel_list.append(pd.read_excel(open(name, 'rb'), sheet_name=\"Accelerometer\"))\n",
    "        gyro_list.append(pd.read_excel(open(name, 'rb'), sheet_name=\"Gyroscope\"))\n",
    "        accel_linear_list.append(pd.read_excel(open(name, 'rb'), sheet_name=\"Linear Acceleration\"))\n",
    "    return [accel_list, gyro_list, accel_linear_list]"
   ],
   "metadata": {
    "collapsed": false
   }
  },
  {
   "cell_type": "code",
   "execution_count": 23,
   "outputs": [],
   "source": [
    "FILE_NAMES_UPSTAIRS = [UP_GYM_1, UP_GYM_2, UP_UNI_1, UP_UNI_2]\n",
    "FILE_NAME_DOWNSTAIRS = [DOWN_GYM_1, DOWN_GYM_2, DOWN_UNI_1, DOWN_UNI_2]"
   ],
   "metadata": {
    "collapsed": false
   }
  },
  {
   "cell_type": "code",
   "execution_count": 24,
   "outputs": [],
   "source": [
    "[upstairs_accel_list, upstairs_gyro_list, upstairs_accel_linear_list] = \\\n",
    "    getListsFromExcel(FILE_NAMES_UPSTAIRS)\n",
    "df_upstairs_accel = pd.concat(upstairs_accel_list)\n",
    "df_upstairs_gyro = pd.concat(upstairs_gyro_list)\n",
    "df_upstairs_accel_linear = pd.concat(upstairs_accel_linear_list)\n",
    "\n",
    "\n",
    "[downstairs_accel_list, downstairs_gyro_list, downstairs_accel_linear_list] = getListsFromExcel(FILE_NAME_DOWNSTAIRS)\n",
    "df_downstairs_accel = pd.concat(downstairs_accel_list)\n",
    "df_downstairs_gyro = pd.concat(downstairs_gyro_list)\n",
    "df_downstairs_accel_linear = pd.concat(downstairs_accel_linear_list)"
   ],
   "metadata": {
    "collapsed": false
   }
  },
  {
   "cell_type": "code",
   "execution_count": 25,
   "outputs": [],
   "source": [
    "def removeNulls(df_sets):\n",
    "    print(\"No. of nulls: {}\".format(df_sets.isna().sum().sum()))\n",
    "    df_no_nulls = df_sets.dropna()\n",
    "    print(\"No. of nulls: {}\".format(df_no_nulls.isna().sum().sum()))\n",
    "    return df_no_nulls"
   ],
   "metadata": {
    "collapsed": false
   }
  },
  {
   "cell_type": "code",
   "execution_count": 26,
   "outputs": [],
   "source": [
    "def getDuplicates(df_sets) -> int:\n",
    "    print(\"number of duplicates = \" + str(df_sets.duplicated().sum()))\n",
    "    return df_sets.duplicated().sum()"
   ],
   "metadata": {
    "collapsed": false
   }
  },
  {
   "cell_type": "code",
   "execution_count": 27,
   "outputs": [],
   "source": [
    "def removeDuplicates(df):\n",
    "    if getDuplicates(df) > 0:\n",
    "        df.drop_duplicates(inplace=True)\n",
    "    print(getDuplicates(df))\n",
    "    return df"
   ],
   "metadata": {
    "collapsed": false
   }
  },
  {
   "cell_type": "code",
   "execution_count": null,
   "outputs": [],
   "source": [
    "removeDuplicates(df_upstairs_accel_linear)"
   ],
   "metadata": {
    "collapsed": false
   }
  },
  {
   "cell_type": "code",
   "execution_count": 29,
   "outputs": [
    {
     "name": "stdout",
     "output_type": "stream",
     "text": [
      "number of duplicates = 3\n",
      "number of duplicates = 0\n",
      "0\n"
     ]
    },
    {
     "data": {
      "text/plain": "       Time (s)  Linear Acceleration x (m/s^2)  Linear Acceleration y (m/s^2)  \\\n0      0.170960                      -0.173424                       0.004152   \n1      0.190405                      -0.178386                      -0.313238   \n2      0.209849                      -0.410237                      -0.168061   \n3      0.229294                      -0.375503                       0.120773   \n4      0.248558                      -0.224053                      -0.399061   \n...         ...                            ...                            ...   \n2998  60.686468                      -0.273792                      -0.175345   \n2999  60.706427                      -0.461391                      -0.040204   \n3000  60.726416                      -0.415000                      -0.650795   \n3001  60.746374                       0.255198                      -0.547121   \n3002  60.766333                       1.137328                       1.825085   \n\n      Linear Acceleration z (m/s^2)  \n0                          0.047689  \n1                         -0.114322  \n2                          0.051076  \n3                         -0.187236  \n4                         -0.511366  \n...                             ...  \n2998                      -0.049015  \n2999                       0.437677  \n3000                      -0.154382  \n3001                      -0.742079  \n3002                      -0.837215  \n\n[28264 rows x 4 columns]",
      "text/html": "<div>\n<style scoped>\n    .dataframe tbody tr th:only-of-type {\n        vertical-align: middle;\n    }\n\n    .dataframe tbody tr th {\n        vertical-align: top;\n    }\n\n    .dataframe thead th {\n        text-align: right;\n    }\n</style>\n<table border=\"1\" class=\"dataframe\">\n  <thead>\n    <tr style=\"text-align: right;\">\n      <th></th>\n      <th>Time (s)</th>\n      <th>Linear Acceleration x (m/s^2)</th>\n      <th>Linear Acceleration y (m/s^2)</th>\n      <th>Linear Acceleration z (m/s^2)</th>\n    </tr>\n  </thead>\n  <tbody>\n    <tr>\n      <th>0</th>\n      <td>0.170960</td>\n      <td>-0.173424</td>\n      <td>0.004152</td>\n      <td>0.047689</td>\n    </tr>\n    <tr>\n      <th>1</th>\n      <td>0.190405</td>\n      <td>-0.178386</td>\n      <td>-0.313238</td>\n      <td>-0.114322</td>\n    </tr>\n    <tr>\n      <th>2</th>\n      <td>0.209849</td>\n      <td>-0.410237</td>\n      <td>-0.168061</td>\n      <td>0.051076</td>\n    </tr>\n    <tr>\n      <th>3</th>\n      <td>0.229294</td>\n      <td>-0.375503</td>\n      <td>0.120773</td>\n      <td>-0.187236</td>\n    </tr>\n    <tr>\n      <th>4</th>\n      <td>0.248558</td>\n      <td>-0.224053</td>\n      <td>-0.399061</td>\n      <td>-0.511366</td>\n    </tr>\n    <tr>\n      <th>...</th>\n      <td>...</td>\n      <td>...</td>\n      <td>...</td>\n      <td>...</td>\n    </tr>\n    <tr>\n      <th>2998</th>\n      <td>60.686468</td>\n      <td>-0.273792</td>\n      <td>-0.175345</td>\n      <td>-0.049015</td>\n    </tr>\n    <tr>\n      <th>2999</th>\n      <td>60.706427</td>\n      <td>-0.461391</td>\n      <td>-0.040204</td>\n      <td>0.437677</td>\n    </tr>\n    <tr>\n      <th>3000</th>\n      <td>60.726416</td>\n      <td>-0.415000</td>\n      <td>-0.650795</td>\n      <td>-0.154382</td>\n    </tr>\n    <tr>\n      <th>3001</th>\n      <td>60.746374</td>\n      <td>0.255198</td>\n      <td>-0.547121</td>\n      <td>-0.742079</td>\n    </tr>\n    <tr>\n      <th>3002</th>\n      <td>60.766333</td>\n      <td>1.137328</td>\n      <td>1.825085</td>\n      <td>-0.837215</td>\n    </tr>\n  </tbody>\n</table>\n<p>28264 rows × 4 columns</p>\n</div>"
     },
     "execution_count": 29,
     "metadata": {},
     "output_type": "execute_result"
    }
   ],
   "source": [
    "removeDuplicates(df_downstairs_accel_linear)"
   ],
   "metadata": {
    "collapsed": false
   }
  },
  {
   "cell_type": "code",
   "execution_count": 35,
   "outputs": [],
   "source": [
    "df_upstairs_accel.drop(columns=['Time (s)'], inplace=True)\n",
    "df_upstairs_gyro.drop(columns=['Time (s)'], inplace=True)\n",
    "df_upstairs_accel_linear.drop(columns=['Time (s)'], inplace=True)\n",
    "\n",
    "df_downstairs_accel.drop(columns=['Time (s)'], inplace=True)\n",
    "df_downstairs_gyro.drop(columns=['Time (s)'], inplace=True)\n",
    "df_downstairs_accel_linear.drop(columns=['Time (s)'], inplace=True)"
   ],
   "metadata": {
    "collapsed": false
   }
  },
  {
   "cell_type": "code",
   "execution_count": 36,
   "outputs": [],
   "source": [
    "def gitMinDataFrameLength(data):\n",
    "    return min(map(len, data))"
   ],
   "metadata": {
    "collapsed": false
   }
  },
  {
   "cell_type": "code",
   "execution_count": 37,
   "outputs": [
    {
     "data": {
      "text/plain": "      Acceleration x (m/s^2)  Acceleration y (m/s^2)  Acceleration z (m/s^2)  \\\n0                   2.009373                6.286543                7.390233   \n1                   2.742175                5.432306                6.477969   \n2                   2.742175                5.432306                6.477969   \n3                   1.908874                6.281758                7.389036   \n4                   2.224129                5.791229                6.769295   \n...                      ...                     ...                     ...   \n2978                0.206619                6.346786               -0.008865   \n2979                0.074951                6.387482               -0.470947   \n2980                0.005508                6.567047               -0.547562   \n2981               -0.217148                6.940536               -0.291382   \n2982               -0.152512                7.215881               -0.363205   \n\n      Gyroscope x (rad/s)  Gyroscope y (rad/s)  Gyroscope z (rad/s)  \\\n0                0.074829             0.460579            -0.049326   \n1                0.097125             0.106440            -0.033138   \n2                0.220974             0.035124             0.077730   \n3                0.180200             0.263733            -0.072996   \n4                0.122322             0.126140            -0.057572   \n...                   ...                  ...                  ...   \n2978            -0.109955             0.709900             0.091385   \n2979             0.063675             0.655579             0.102036   \n2980             0.209625             0.587387             0.108429   \n2981             0.265015             0.518158             0.091385   \n2982             0.260757             0.479797             0.064758   \n\n      Linear Acceleration x (m/s^2)  Linear Acceleration y (m/s^2)  \\\n0                         -0.173424                       0.004152   \n1                         -0.178386                      -0.313238   \n2                         -0.410237                      -0.168061   \n3                         -0.375503                       0.120773   \n4                         -0.224053                      -0.399061   \n...                             ...                            ...   \n2978                       0.222801                      -0.657964   \n2979                       0.365821                      -1.358996   \n2980                       0.237620                      -2.157866   \n2981                       0.106277                      -3.145580   \n2982                       0.234721                      -4.092020   \n\n      Linear Acceleration z (m/s^2)  \n0                          0.047689  \n1                         -0.114322  \n2                          0.051076  \n3                         -0.187236  \n4                         -0.511366  \n...                             ...  \n2978                       0.258509  \n2979                       0.413707  \n2980                       0.540158  \n2981                       0.438494  \n2982                       0.303898  \n\n[15342 rows x 9 columns]",
      "text/html": "<div>\n<style scoped>\n    .dataframe tbody tr th:only-of-type {\n        vertical-align: middle;\n    }\n\n    .dataframe tbody tr th {\n        vertical-align: top;\n    }\n\n    .dataframe thead th {\n        text-align: right;\n    }\n</style>\n<table border=\"1\" class=\"dataframe\">\n  <thead>\n    <tr style=\"text-align: right;\">\n      <th></th>\n      <th>Acceleration x (m/s^2)</th>\n      <th>Acceleration y (m/s^2)</th>\n      <th>Acceleration z (m/s^2)</th>\n      <th>Gyroscope x (rad/s)</th>\n      <th>Gyroscope y (rad/s)</th>\n      <th>Gyroscope z (rad/s)</th>\n      <th>Linear Acceleration x (m/s^2)</th>\n      <th>Linear Acceleration y (m/s^2)</th>\n      <th>Linear Acceleration z (m/s^2)</th>\n    </tr>\n  </thead>\n  <tbody>\n    <tr>\n      <th>0</th>\n      <td>2.009373</td>\n      <td>6.286543</td>\n      <td>7.390233</td>\n      <td>0.074829</td>\n      <td>0.460579</td>\n      <td>-0.049326</td>\n      <td>-0.173424</td>\n      <td>0.004152</td>\n      <td>0.047689</td>\n    </tr>\n    <tr>\n      <th>1</th>\n      <td>2.742175</td>\n      <td>5.432306</td>\n      <td>6.477969</td>\n      <td>0.097125</td>\n      <td>0.106440</td>\n      <td>-0.033138</td>\n      <td>-0.178386</td>\n      <td>-0.313238</td>\n      <td>-0.114322</td>\n    </tr>\n    <tr>\n      <th>2</th>\n      <td>2.742175</td>\n      <td>5.432306</td>\n      <td>6.477969</td>\n      <td>0.220974</td>\n      <td>0.035124</td>\n      <td>0.077730</td>\n      <td>-0.410237</td>\n      <td>-0.168061</td>\n      <td>0.051076</td>\n    </tr>\n    <tr>\n      <th>3</th>\n      <td>1.908874</td>\n      <td>6.281758</td>\n      <td>7.389036</td>\n      <td>0.180200</td>\n      <td>0.263733</td>\n      <td>-0.072996</td>\n      <td>-0.375503</td>\n      <td>0.120773</td>\n      <td>-0.187236</td>\n    </tr>\n    <tr>\n      <th>4</th>\n      <td>2.224129</td>\n      <td>5.791229</td>\n      <td>6.769295</td>\n      <td>0.122322</td>\n      <td>0.126140</td>\n      <td>-0.057572</td>\n      <td>-0.224053</td>\n      <td>-0.399061</td>\n      <td>-0.511366</td>\n    </tr>\n    <tr>\n      <th>...</th>\n      <td>...</td>\n      <td>...</td>\n      <td>...</td>\n      <td>...</td>\n      <td>...</td>\n      <td>...</td>\n      <td>...</td>\n      <td>...</td>\n      <td>...</td>\n    </tr>\n    <tr>\n      <th>2978</th>\n      <td>0.206619</td>\n      <td>6.346786</td>\n      <td>-0.008865</td>\n      <td>-0.109955</td>\n      <td>0.709900</td>\n      <td>0.091385</td>\n      <td>0.222801</td>\n      <td>-0.657964</td>\n      <td>0.258509</td>\n    </tr>\n    <tr>\n      <th>2979</th>\n      <td>0.074951</td>\n      <td>6.387482</td>\n      <td>-0.470947</td>\n      <td>0.063675</td>\n      <td>0.655579</td>\n      <td>0.102036</td>\n      <td>0.365821</td>\n      <td>-1.358996</td>\n      <td>0.413707</td>\n    </tr>\n    <tr>\n      <th>2980</th>\n      <td>0.005508</td>\n      <td>6.567047</td>\n      <td>-0.547562</td>\n      <td>0.209625</td>\n      <td>0.587387</td>\n      <td>0.108429</td>\n      <td>0.237620</td>\n      <td>-2.157866</td>\n      <td>0.540158</td>\n    </tr>\n    <tr>\n      <th>2981</th>\n      <td>-0.217148</td>\n      <td>6.940536</td>\n      <td>-0.291382</td>\n      <td>0.265015</td>\n      <td>0.518158</td>\n      <td>0.091385</td>\n      <td>0.106277</td>\n      <td>-3.145580</td>\n      <td>0.438494</td>\n    </tr>\n    <tr>\n      <th>2982</th>\n      <td>-0.152512</td>\n      <td>7.215881</td>\n      <td>-0.363205</td>\n      <td>0.260757</td>\n      <td>0.479797</td>\n      <td>0.064758</td>\n      <td>0.234721</td>\n      <td>-4.092020</td>\n      <td>0.303898</td>\n    </tr>\n  </tbody>\n</table>\n<p>15342 rows × 9 columns</p>\n</div>"
     },
     "execution_count": 37,
     "metadata": {},
     "output_type": "execute_result"
    }
   ],
   "source": [
    "ups = [df_upstairs_accel, df_upstairs_gyro, df_upstairs_accel_linear]\n",
    "\n",
    "min_len = gitMinDataFrameLength(ups)\n",
    "df_upstairs_accel = df_upstairs_accel[:min_len]\n",
    "df_upstairs_gyro = df_upstairs_gyro[:min_len]\n",
    "df_upstairs_accel_linear = df_upstairs_accel_linear[:min_len]\n",
    "\n",
    "df_upstairs_accel.index = df_upstairs_accel_linear.index\n",
    "df_upstairs_gyro.index = df_upstairs_accel_linear.index\n",
    "df_upstairs_accel_linear.index = df_upstairs_gyro.index\n",
    "\n",
    "full_data_up = pd.concat([df_upstairs_accel, df_upstairs_gyro, df_upstairs_accel_linear], axis=1)\n",
    "full_data_up"
   ],
   "metadata": {
    "collapsed": false
   }
  },
  {
   "cell_type": "code",
   "execution_count": 38,
   "outputs": [
    {
     "name": "stdout",
     "output_type": "stream",
     "text": [
      "15342\n"
     ]
    }
   ],
   "source": [
    "print(min(map(len, ups)))"
   ],
   "metadata": {
    "collapsed": false
   }
  },
  {
   "cell_type": "code",
   "execution_count": 39,
   "outputs": [],
   "source": [
    "full_data_up_with_label = full_data_up.copy()\n",
    "full_data_up_with_label.insert(0, 'Activity', 'WALKING_UPSTAIRS')"
   ],
   "metadata": {
    "collapsed": false
   }
  },
  {
   "cell_type": "markdown",
   "source": [],
   "metadata": {
    "collapsed": false
   }
  },
  {
   "cell_type": "code",
   "execution_count": 40,
   "outputs": [
    {
     "data": {
      "text/plain": "      Acceleration x (m/s^2)  Acceleration y (m/s^2)  Acceleration z (m/s^2)  \\\n0                   2.009373                6.286543                7.390233   \n1                   2.742175                5.432306                6.477969   \n2                   2.742175                5.432306                6.477969   \n3                   1.908874                6.281758                7.389036   \n4                   2.224129                5.791229                6.769295   \n...                      ...                     ...                     ...   \n2998               -0.585861               12.449600                1.135559   \n2999               -0.684021               12.037796                6.196915   \n3000                0.086914               11.642761                9.371628   \n3001                1.032623               11.094482                7.046844   \n3002                1.257675               10.153564                2.402100   \n\n      Gyroscope x (rad/s)  Gyroscope y (rad/s)  Gyroscope z (rad/s)  \\\n0                0.074829             0.460579            -0.049326   \n1                0.097125             0.106440            -0.033138   \n2                0.220974             0.035124             0.077730   \n3                0.180200             0.263733            -0.072996   \n4                0.122322             0.126140            -0.057572   \n...                   ...                  ...                  ...   \n2998            -0.377335             0.250778             0.207504   \n2999            -0.232468             0.256104             0.164886   \n3000            -0.182388             0.275269             0.043457   \n3001            -0.113159             0.159164            -0.020462   \n3002            -0.017273             0.089920            -0.034317   \n\n      Linear Acceleration x (m/s^2)  Linear Acceleration y (m/s^2)  \\\n0                         -0.173424                       0.004152   \n1                         -0.178386                      -0.313238   \n2                         -0.410237                      -0.168061   \n3                         -0.375503                       0.120773   \n4                         -0.224053                      -0.399061   \n...                             ...                            ...   \n2998                      -0.273792                      -0.175345   \n2999                      -0.461391                      -0.040204   \n3000                      -0.415000                      -0.650795   \n3001                       0.255198                      -0.547121   \n3002                       1.137328                       1.825085   \n\n      Linear Acceleration z (m/s^2)  \n0                          0.047689  \n1                         -0.114322  \n2                          0.051076  \n3                         -0.187236  \n4                         -0.511366  \n...                             ...  \n2998                      -0.049015  \n2999                       0.437677  \n3000                      -0.154382  \n3001                      -0.742079  \n3002                      -0.837215  \n\n[28264 rows x 9 columns]",
      "text/html": "<div>\n<style scoped>\n    .dataframe tbody tr th:only-of-type {\n        vertical-align: middle;\n    }\n\n    .dataframe tbody tr th {\n        vertical-align: top;\n    }\n\n    .dataframe thead th {\n        text-align: right;\n    }\n</style>\n<table border=\"1\" class=\"dataframe\">\n  <thead>\n    <tr style=\"text-align: right;\">\n      <th></th>\n      <th>Acceleration x (m/s^2)</th>\n      <th>Acceleration y (m/s^2)</th>\n      <th>Acceleration z (m/s^2)</th>\n      <th>Gyroscope x (rad/s)</th>\n      <th>Gyroscope y (rad/s)</th>\n      <th>Gyroscope z (rad/s)</th>\n      <th>Linear Acceleration x (m/s^2)</th>\n      <th>Linear Acceleration y (m/s^2)</th>\n      <th>Linear Acceleration z (m/s^2)</th>\n    </tr>\n  </thead>\n  <tbody>\n    <tr>\n      <th>0</th>\n      <td>2.009373</td>\n      <td>6.286543</td>\n      <td>7.390233</td>\n      <td>0.074829</td>\n      <td>0.460579</td>\n      <td>-0.049326</td>\n      <td>-0.173424</td>\n      <td>0.004152</td>\n      <td>0.047689</td>\n    </tr>\n    <tr>\n      <th>1</th>\n      <td>2.742175</td>\n      <td>5.432306</td>\n      <td>6.477969</td>\n      <td>0.097125</td>\n      <td>0.106440</td>\n      <td>-0.033138</td>\n      <td>-0.178386</td>\n      <td>-0.313238</td>\n      <td>-0.114322</td>\n    </tr>\n    <tr>\n      <th>2</th>\n      <td>2.742175</td>\n      <td>5.432306</td>\n      <td>6.477969</td>\n      <td>0.220974</td>\n      <td>0.035124</td>\n      <td>0.077730</td>\n      <td>-0.410237</td>\n      <td>-0.168061</td>\n      <td>0.051076</td>\n    </tr>\n    <tr>\n      <th>3</th>\n      <td>1.908874</td>\n      <td>6.281758</td>\n      <td>7.389036</td>\n      <td>0.180200</td>\n      <td>0.263733</td>\n      <td>-0.072996</td>\n      <td>-0.375503</td>\n      <td>0.120773</td>\n      <td>-0.187236</td>\n    </tr>\n    <tr>\n      <th>4</th>\n      <td>2.224129</td>\n      <td>5.791229</td>\n      <td>6.769295</td>\n      <td>0.122322</td>\n      <td>0.126140</td>\n      <td>-0.057572</td>\n      <td>-0.224053</td>\n      <td>-0.399061</td>\n      <td>-0.511366</td>\n    </tr>\n    <tr>\n      <th>...</th>\n      <td>...</td>\n      <td>...</td>\n      <td>...</td>\n      <td>...</td>\n      <td>...</td>\n      <td>...</td>\n      <td>...</td>\n      <td>...</td>\n      <td>...</td>\n    </tr>\n    <tr>\n      <th>2998</th>\n      <td>-0.585861</td>\n      <td>12.449600</td>\n      <td>1.135559</td>\n      <td>-0.377335</td>\n      <td>0.250778</td>\n      <td>0.207504</td>\n      <td>-0.273792</td>\n      <td>-0.175345</td>\n      <td>-0.049015</td>\n    </tr>\n    <tr>\n      <th>2999</th>\n      <td>-0.684021</td>\n      <td>12.037796</td>\n      <td>6.196915</td>\n      <td>-0.232468</td>\n      <td>0.256104</td>\n      <td>0.164886</td>\n      <td>-0.461391</td>\n      <td>-0.040204</td>\n      <td>0.437677</td>\n    </tr>\n    <tr>\n      <th>3000</th>\n      <td>0.086914</td>\n      <td>11.642761</td>\n      <td>9.371628</td>\n      <td>-0.182388</td>\n      <td>0.275269</td>\n      <td>0.043457</td>\n      <td>-0.415000</td>\n      <td>-0.650795</td>\n      <td>-0.154382</td>\n    </tr>\n    <tr>\n      <th>3001</th>\n      <td>1.032623</td>\n      <td>11.094482</td>\n      <td>7.046844</td>\n      <td>-0.113159</td>\n      <td>0.159164</td>\n      <td>-0.020462</td>\n      <td>0.255198</td>\n      <td>-0.547121</td>\n      <td>-0.742079</td>\n    </tr>\n    <tr>\n      <th>3002</th>\n      <td>1.257675</td>\n      <td>10.153564</td>\n      <td>2.402100</td>\n      <td>-0.017273</td>\n      <td>0.089920</td>\n      <td>-0.034317</td>\n      <td>1.137328</td>\n      <td>1.825085</td>\n      <td>-0.837215</td>\n    </tr>\n  </tbody>\n</table>\n<p>28264 rows × 9 columns</p>\n</div>"
     },
     "execution_count": 40,
     "metadata": {},
     "output_type": "execute_result"
    }
   ],
   "source": [
    "downs = [df_downstairs_accel, df_downstairs_gyro, df_downstairs_accel_linear]\n",
    "\n",
    "min_len_down = gitMinDataFrameLength(downs)\n",
    "\n",
    "df_downstairs_accel = df_downstairs_accel[:min_len_down]\n",
    "df_downstairs_gyro = df_downstairs_gyro[:min_len_down]\n",
    "df_downstairs_accel_linear = df_downstairs_accel_linear[:min_len_down]\n",
    "\n",
    "df_downstairs_accel.index = df_downstairs_accel_linear.index\n",
    "df_downstairs_gyro.index = df_downstairs_accel_linear.index\n",
    "df_downstairs_accel_linear.index = df_downstairs_accel_linear.index\n",
    "\n",
    "full_data_down = pd.concat([df_downstairs_accel, df_downstairs_gyro, df_downstairs_accel_linear], axis=1)\n",
    "full_data_down"
   ],
   "metadata": {
    "collapsed": false
   }
  },
  {
   "cell_type": "code",
   "execution_count": 41,
   "outputs": [],
   "source": [
    "full_data_down_with_label = full_data_down.copy()\n",
    "full_data_down_with_label.insert(9, 'Activity', 'WALKING_DOWNSTAIRS')"
   ],
   "metadata": {
    "collapsed": false
   }
  },
  {
   "cell_type": "code",
   "execution_count": 42,
   "outputs": [
    {
     "data": {
      "text/plain": "      Acceleration x (m/s^2)  Acceleration y (m/s^2)  Acceleration z (m/s^2)  \\\n0                   2.009373                6.286543                7.390233   \n1                   2.742175                5.432306                6.477969   \n2                   2.742175                5.432306                6.477969   \n3                   1.908874                6.281758                7.389036   \n4                   2.224129                5.791229                6.769295   \n...                      ...                     ...                     ...   \n2998               -0.585861               12.449600                1.135559   \n2999               -0.684021               12.037796                6.196915   \n3000                0.086914               11.642761                9.371628   \n3001                1.032623               11.094482                7.046844   \n3002                1.257675               10.153564                2.402100   \n\n      Gyroscope x (rad/s)  Gyroscope y (rad/s)  Gyroscope z (rad/s)  \\\n0                0.074829             0.460579            -0.049326   \n1                0.097125             0.106440            -0.033138   \n2                0.220974             0.035124             0.077730   \n3                0.180200             0.263733            -0.072996   \n4                0.122322             0.126140            -0.057572   \n...                   ...                  ...                  ...   \n2998            -0.377335             0.250778             0.207504   \n2999            -0.232468             0.256104             0.164886   \n3000            -0.182388             0.275269             0.043457   \n3001            -0.113159             0.159164            -0.020462   \n3002            -0.017273             0.089920            -0.034317   \n\n      Linear Acceleration x (m/s^2)  Linear Acceleration y (m/s^2)  \\\n0                         -0.173424                       0.004152   \n1                         -0.178386                      -0.313238   \n2                         -0.410237                      -0.168061   \n3                         -0.375503                       0.120773   \n4                         -0.224053                      -0.399061   \n...                             ...                            ...   \n2998                      -0.273792                      -0.175345   \n2999                      -0.461391                      -0.040204   \n3000                      -0.415000                      -0.650795   \n3001                       0.255198                      -0.547121   \n3002                       1.137328                       1.825085   \n\n      Linear Acceleration z (m/s^2)            Activity  \n0                          0.047689  WALKING_DOWNSTAIRS  \n1                         -0.114322  WALKING_DOWNSTAIRS  \n2                          0.051076  WALKING_DOWNSTAIRS  \n3                         -0.187236  WALKING_DOWNSTAIRS  \n4                         -0.511366  WALKING_DOWNSTAIRS  \n...                             ...                 ...  \n2998                      -0.049015  WALKING_DOWNSTAIRS  \n2999                       0.437677  WALKING_DOWNSTAIRS  \n3000                      -0.154382  WALKING_DOWNSTAIRS  \n3001                      -0.742079  WALKING_DOWNSTAIRS  \n3002                      -0.837215  WALKING_DOWNSTAIRS  \n\n[28264 rows x 10 columns]",
      "text/html": "<div>\n<style scoped>\n    .dataframe tbody tr th:only-of-type {\n        vertical-align: middle;\n    }\n\n    .dataframe tbody tr th {\n        vertical-align: top;\n    }\n\n    .dataframe thead th {\n        text-align: right;\n    }\n</style>\n<table border=\"1\" class=\"dataframe\">\n  <thead>\n    <tr style=\"text-align: right;\">\n      <th></th>\n      <th>Acceleration x (m/s^2)</th>\n      <th>Acceleration y (m/s^2)</th>\n      <th>Acceleration z (m/s^2)</th>\n      <th>Gyroscope x (rad/s)</th>\n      <th>Gyroscope y (rad/s)</th>\n      <th>Gyroscope z (rad/s)</th>\n      <th>Linear Acceleration x (m/s^2)</th>\n      <th>Linear Acceleration y (m/s^2)</th>\n      <th>Linear Acceleration z (m/s^2)</th>\n      <th>Activity</th>\n    </tr>\n  </thead>\n  <tbody>\n    <tr>\n      <th>0</th>\n      <td>2.009373</td>\n      <td>6.286543</td>\n      <td>7.390233</td>\n      <td>0.074829</td>\n      <td>0.460579</td>\n      <td>-0.049326</td>\n      <td>-0.173424</td>\n      <td>0.004152</td>\n      <td>0.047689</td>\n      <td>WALKING_DOWNSTAIRS</td>\n    </tr>\n    <tr>\n      <th>1</th>\n      <td>2.742175</td>\n      <td>5.432306</td>\n      <td>6.477969</td>\n      <td>0.097125</td>\n      <td>0.106440</td>\n      <td>-0.033138</td>\n      <td>-0.178386</td>\n      <td>-0.313238</td>\n      <td>-0.114322</td>\n      <td>WALKING_DOWNSTAIRS</td>\n    </tr>\n    <tr>\n      <th>2</th>\n      <td>2.742175</td>\n      <td>5.432306</td>\n      <td>6.477969</td>\n      <td>0.220974</td>\n      <td>0.035124</td>\n      <td>0.077730</td>\n      <td>-0.410237</td>\n      <td>-0.168061</td>\n      <td>0.051076</td>\n      <td>WALKING_DOWNSTAIRS</td>\n    </tr>\n    <tr>\n      <th>3</th>\n      <td>1.908874</td>\n      <td>6.281758</td>\n      <td>7.389036</td>\n      <td>0.180200</td>\n      <td>0.263733</td>\n      <td>-0.072996</td>\n      <td>-0.375503</td>\n      <td>0.120773</td>\n      <td>-0.187236</td>\n      <td>WALKING_DOWNSTAIRS</td>\n    </tr>\n    <tr>\n      <th>4</th>\n      <td>2.224129</td>\n      <td>5.791229</td>\n      <td>6.769295</td>\n      <td>0.122322</td>\n      <td>0.126140</td>\n      <td>-0.057572</td>\n      <td>-0.224053</td>\n      <td>-0.399061</td>\n      <td>-0.511366</td>\n      <td>WALKING_DOWNSTAIRS</td>\n    </tr>\n    <tr>\n      <th>...</th>\n      <td>...</td>\n      <td>...</td>\n      <td>...</td>\n      <td>...</td>\n      <td>...</td>\n      <td>...</td>\n      <td>...</td>\n      <td>...</td>\n      <td>...</td>\n      <td>...</td>\n    </tr>\n    <tr>\n      <th>2998</th>\n      <td>-0.585861</td>\n      <td>12.449600</td>\n      <td>1.135559</td>\n      <td>-0.377335</td>\n      <td>0.250778</td>\n      <td>0.207504</td>\n      <td>-0.273792</td>\n      <td>-0.175345</td>\n      <td>-0.049015</td>\n      <td>WALKING_DOWNSTAIRS</td>\n    </tr>\n    <tr>\n      <th>2999</th>\n      <td>-0.684021</td>\n      <td>12.037796</td>\n      <td>6.196915</td>\n      <td>-0.232468</td>\n      <td>0.256104</td>\n      <td>0.164886</td>\n      <td>-0.461391</td>\n      <td>-0.040204</td>\n      <td>0.437677</td>\n      <td>WALKING_DOWNSTAIRS</td>\n    </tr>\n    <tr>\n      <th>3000</th>\n      <td>0.086914</td>\n      <td>11.642761</td>\n      <td>9.371628</td>\n      <td>-0.182388</td>\n      <td>0.275269</td>\n      <td>0.043457</td>\n      <td>-0.415000</td>\n      <td>-0.650795</td>\n      <td>-0.154382</td>\n      <td>WALKING_DOWNSTAIRS</td>\n    </tr>\n    <tr>\n      <th>3001</th>\n      <td>1.032623</td>\n      <td>11.094482</td>\n      <td>7.046844</td>\n      <td>-0.113159</td>\n      <td>0.159164</td>\n      <td>-0.020462</td>\n      <td>0.255198</td>\n      <td>-0.547121</td>\n      <td>-0.742079</td>\n      <td>WALKING_DOWNSTAIRS</td>\n    </tr>\n    <tr>\n      <th>3002</th>\n      <td>1.257675</td>\n      <td>10.153564</td>\n      <td>2.402100</td>\n      <td>-0.017273</td>\n      <td>0.089920</td>\n      <td>-0.034317</td>\n      <td>1.137328</td>\n      <td>1.825085</td>\n      <td>-0.837215</td>\n      <td>WALKING_DOWNSTAIRS</td>\n    </tr>\n  </tbody>\n</table>\n<p>28264 rows × 10 columns</p>\n</div>"
     },
     "execution_count": 42,
     "metadata": {},
     "output_type": "execute_result"
    }
   ],
   "source": [
    "full_data_down_with_label"
   ],
   "metadata": {
    "collapsed": false
   }
  },
  {
   "cell_type": "code",
   "execution_count": 44,
   "outputs": [],
   "source": [
    "import matplotlib.pyplot as plt\n",
    "\n",
    "kernal_evals = dict()\n",
    "\n",
    "def evaluate_classification(model, name, X_train, X_test, y_train, y_test):\n",
    "    train_accuracy = metrics.accuracy_score(y_train, model.predict(X_train))\n",
    "    test_accuracy = metrics.accuracy_score(y_test, model.predict(X_test))\n",
    "\n",
    "    train_precision = metrics.precision_score(y_train, model.predict(X_train), average='micro')\n",
    "    test_precision = metrics.precision_score(y_test, model.predict(X_test), average='micro')\n",
    "\n",
    "    train_recall = metrics.recall_score(y_train, model.predict(X_train), average='micro')\n",
    "    test_recall = metrics.recall_score(y_test, model.predict(X_test), average='micro')\n",
    "\n",
    "    kernal_evals[str(name)] = [train_accuracy, test_accuracy, train_precision, test_precision, train_recall, test_recall]\n",
    "    print(\"Training Accuracy \" + str(name) + \" {}  Test Accuracy \".format(train_accuracy*100) + str(name) + \" {}\".format(test_accuracy*100))\n",
    "    print(\"Training Precesion \" + str(name) + \" {}  Test Precesion \".format(train_precision*100) + str(name) + \" {}\".format(test_precision*100))\n",
    "    print(\"Training Recall \" + str(name) + \" {}  Test Recall \".format(train_recall*100) + str(name) + \" {}\".format(test_recall*100))\n",
    "\n",
    "    actual = y_test\n",
    "    predicted = model.predict(X_test)\n",
    "    confusion_matrix = metrics.confusion_matrix(actual, predicted)\n",
    "    cm_display = metrics.ConfusionMatrixDisplay(\n",
    "        confusion_matrix = confusion_matrix, display_labels = ['DOWNSTAIRS', 'UPSTAIRS'])\n",
    "\n",
    "    fig, ax = plt.subplots(figsize=(10,10))\n",
    "    ax.grid(False)\n",
    "    cm_display.plot(ax=ax)"
   ],
   "metadata": {
    "collapsed": false
   }
  },
  {
   "cell_type": "code",
   "execution_count": 45,
   "outputs": [
    {
     "data": {
      "text/plain": "              Activity  Acceleration x (m/s^2)  Acceleration y (m/s^2)  \\\n0     WALKING_UPSTAIRS                2.009373                6.286543   \n1     WALKING_UPSTAIRS                2.742175                5.432306   \n2     WALKING_UPSTAIRS                2.742175                5.432306   \n3     WALKING_UPSTAIRS                1.908874                6.281758   \n4     WALKING_UPSTAIRS                2.224129                5.791229   \n...                ...                     ...                     ...   \n2978  WALKING_UPSTAIRS                0.206619                6.346786   \n2979  WALKING_UPSTAIRS                0.074951                6.387482   \n2980  WALKING_UPSTAIRS                0.005508                6.567047   \n2981  WALKING_UPSTAIRS               -0.217148                6.940536   \n2982  WALKING_UPSTAIRS               -0.152512                7.215881   \n\n      Acceleration z (m/s^2)  Gyroscope x (rad/s)  Gyroscope y (rad/s)  \\\n0                   7.390233             0.074829             0.460579   \n1                   6.477969             0.097125             0.106440   \n2                   6.477969             0.220974             0.035124   \n3                   7.389036             0.180200             0.263733   \n4                   6.769295             0.122322             0.126140   \n...                      ...                  ...                  ...   \n2978               -0.008865            -0.109955             0.709900   \n2979               -0.470947             0.063675             0.655579   \n2980               -0.547562             0.209625             0.587387   \n2981               -0.291382             0.265015             0.518158   \n2982               -0.363205             0.260757             0.479797   \n\n      Gyroscope z (rad/s)  Linear Acceleration x (m/s^2)  \\\n0               -0.049326                      -0.173424   \n1               -0.033138                      -0.178386   \n2                0.077730                      -0.410237   \n3               -0.072996                      -0.375503   \n4               -0.057572                      -0.224053   \n...                   ...                            ...   \n2978             0.091385                       0.222801   \n2979             0.102036                       0.365821   \n2980             0.108429                       0.237620   \n2981             0.091385                       0.106277   \n2982             0.064758                       0.234721   \n\n      Linear Acceleration y (m/s^2)  Linear Acceleration z (m/s^2)  \n0                          0.004152                       0.047689  \n1                         -0.313238                      -0.114322  \n2                         -0.168061                       0.051076  \n3                          0.120773                      -0.187236  \n4                         -0.399061                      -0.511366  \n...                             ...                            ...  \n2978                      -0.657964                       0.258509  \n2979                      -1.358996                       0.413707  \n2980                      -2.157866                       0.540158  \n2981                      -3.145580                       0.438494  \n2982                      -4.092020                       0.303898  \n\n[15342 rows x 10 columns]",
      "text/html": "<div>\n<style scoped>\n    .dataframe tbody tr th:only-of-type {\n        vertical-align: middle;\n    }\n\n    .dataframe tbody tr th {\n        vertical-align: top;\n    }\n\n    .dataframe thead th {\n        text-align: right;\n    }\n</style>\n<table border=\"1\" class=\"dataframe\">\n  <thead>\n    <tr style=\"text-align: right;\">\n      <th></th>\n      <th>Activity</th>\n      <th>Acceleration x (m/s^2)</th>\n      <th>Acceleration y (m/s^2)</th>\n      <th>Acceleration z (m/s^2)</th>\n      <th>Gyroscope x (rad/s)</th>\n      <th>Gyroscope y (rad/s)</th>\n      <th>Gyroscope z (rad/s)</th>\n      <th>Linear Acceleration x (m/s^2)</th>\n      <th>Linear Acceleration y (m/s^2)</th>\n      <th>Linear Acceleration z (m/s^2)</th>\n    </tr>\n  </thead>\n  <tbody>\n    <tr>\n      <th>0</th>\n      <td>WALKING_UPSTAIRS</td>\n      <td>2.009373</td>\n      <td>6.286543</td>\n      <td>7.390233</td>\n      <td>0.074829</td>\n      <td>0.460579</td>\n      <td>-0.049326</td>\n      <td>-0.173424</td>\n      <td>0.004152</td>\n      <td>0.047689</td>\n    </tr>\n    <tr>\n      <th>1</th>\n      <td>WALKING_UPSTAIRS</td>\n      <td>2.742175</td>\n      <td>5.432306</td>\n      <td>6.477969</td>\n      <td>0.097125</td>\n      <td>0.106440</td>\n      <td>-0.033138</td>\n      <td>-0.178386</td>\n      <td>-0.313238</td>\n      <td>-0.114322</td>\n    </tr>\n    <tr>\n      <th>2</th>\n      <td>WALKING_UPSTAIRS</td>\n      <td>2.742175</td>\n      <td>5.432306</td>\n      <td>6.477969</td>\n      <td>0.220974</td>\n      <td>0.035124</td>\n      <td>0.077730</td>\n      <td>-0.410237</td>\n      <td>-0.168061</td>\n      <td>0.051076</td>\n    </tr>\n    <tr>\n      <th>3</th>\n      <td>WALKING_UPSTAIRS</td>\n      <td>1.908874</td>\n      <td>6.281758</td>\n      <td>7.389036</td>\n      <td>0.180200</td>\n      <td>0.263733</td>\n      <td>-0.072996</td>\n      <td>-0.375503</td>\n      <td>0.120773</td>\n      <td>-0.187236</td>\n    </tr>\n    <tr>\n      <th>4</th>\n      <td>WALKING_UPSTAIRS</td>\n      <td>2.224129</td>\n      <td>5.791229</td>\n      <td>6.769295</td>\n      <td>0.122322</td>\n      <td>0.126140</td>\n      <td>-0.057572</td>\n      <td>-0.224053</td>\n      <td>-0.399061</td>\n      <td>-0.511366</td>\n    </tr>\n    <tr>\n      <th>...</th>\n      <td>...</td>\n      <td>...</td>\n      <td>...</td>\n      <td>...</td>\n      <td>...</td>\n      <td>...</td>\n      <td>...</td>\n      <td>...</td>\n      <td>...</td>\n      <td>...</td>\n    </tr>\n    <tr>\n      <th>2978</th>\n      <td>WALKING_UPSTAIRS</td>\n      <td>0.206619</td>\n      <td>6.346786</td>\n      <td>-0.008865</td>\n      <td>-0.109955</td>\n      <td>0.709900</td>\n      <td>0.091385</td>\n      <td>0.222801</td>\n      <td>-0.657964</td>\n      <td>0.258509</td>\n    </tr>\n    <tr>\n      <th>2979</th>\n      <td>WALKING_UPSTAIRS</td>\n      <td>0.074951</td>\n      <td>6.387482</td>\n      <td>-0.470947</td>\n      <td>0.063675</td>\n      <td>0.655579</td>\n      <td>0.102036</td>\n      <td>0.365821</td>\n      <td>-1.358996</td>\n      <td>0.413707</td>\n    </tr>\n    <tr>\n      <th>2980</th>\n      <td>WALKING_UPSTAIRS</td>\n      <td>0.005508</td>\n      <td>6.567047</td>\n      <td>-0.547562</td>\n      <td>0.209625</td>\n      <td>0.587387</td>\n      <td>0.108429</td>\n      <td>0.237620</td>\n      <td>-2.157866</td>\n      <td>0.540158</td>\n    </tr>\n    <tr>\n      <th>2981</th>\n      <td>WALKING_UPSTAIRS</td>\n      <td>-0.217148</td>\n      <td>6.940536</td>\n      <td>-0.291382</td>\n      <td>0.265015</td>\n      <td>0.518158</td>\n      <td>0.091385</td>\n      <td>0.106277</td>\n      <td>-3.145580</td>\n      <td>0.438494</td>\n    </tr>\n    <tr>\n      <th>2982</th>\n      <td>WALKING_UPSTAIRS</td>\n      <td>-0.152512</td>\n      <td>7.215881</td>\n      <td>-0.363205</td>\n      <td>0.260757</td>\n      <td>0.479797</td>\n      <td>0.064758</td>\n      <td>0.234721</td>\n      <td>-4.092020</td>\n      <td>0.303898</td>\n    </tr>\n  </tbody>\n</table>\n<p>15342 rows × 10 columns</p>\n</div>"
     },
     "execution_count": 45,
     "metadata": {},
     "output_type": "execute_result"
    }
   ],
   "source": [
    "full_data = pd.concat([full_data_up_with_label, full_data_down_with_label], axis=0).reset_index(drop=True)\n",
    "full_data_up_with_label"
   ],
   "metadata": {
    "collapsed": false
   }
  },
  {
   "cell_type": "code",
   "execution_count": 46,
   "outputs": [
    {
     "name": "stdout",
     "output_type": "stream",
     "text": [
      "Training Accuracy LogisticRegression 64.42349343865462  Test Accuracy LogisticRegression 65.23733088741115\n",
      "Training Precesion LogisticRegression 64.42349343865462  Test Precesion LogisticRegression 65.23733088741115\n",
      "Training Recall LogisticRegression 64.42349343865462  Test Recall LogisticRegression 65.23733088741115\n"
     ]
    },
    {
     "data": {
      "text/plain": "<Figure size 1000x1000 with 2 Axes>",
      "image/png": "[encoded data removed]"
     },
     "metadata": {},
     "output_type": "display_data"
    }
   ],
   "source": [
    "from sklearn.discriminant_analysis import LinearDiscriminantAnalysis\n",
    "from sklearn.linear_model import LogisticRegression\n",
    "from sklearn.model_selection import train_test_split\n",
    "from sklearn import metrics\n",
    "from sklearn.tree import DecisionTreeClassifier\n",
    "\n",
    "X = full_data.drop(['Activity'], axis=1)\n",
    "y = full_data['Activity']\n",
    "\n",
    "x_train, x_test, y_train, y_test = train_test_split(X, y, test_size=0.1, shuffle=True)\n",
    "lrm = LogisticRegression().fit(x_train, y_train)\n",
    "ld = LinearDiscriminantAnalysis().fit(x_train, y_train)\n",
    "tdt = DecisionTreeClassifier().fit(x_train, y_train)\n",
    "evaluate_classification(lrm, \"LogisticRegression\", x_train, x_test, y_train, y_test)"
   ],
   "metadata": {
    "collapsed": false
   }
  },
  {
   "cell_type": "code",
   "execution_count": 145,
   "outputs": [],
   "source": [],
   "metadata": {
    "collapsed": false
   }
  }
 ],
 "metadata": {
  "kernelspec": {
   "display_name": "Python 3",
   "language": "python",
   "name": "python3"
  },
  "language_info": {
   "codemirror_mode": {
    "name": "ipython",
    "version": 2
   },
   "file_extension": ".py",
   "mimetype": "text/x-python",
   "name": "python",
   "nbconvert_exporter": "python",
   "pygments_lexer": "ipython2",
   "version": "2.7.6"
  }
 },
 "nbformat": 4,
 "nbformat_minor": 0
}
